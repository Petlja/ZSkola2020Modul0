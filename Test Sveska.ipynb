{
 "cells": [
  {
   "cell_type": "markdown",
   "metadata": {},
   "source": [
    "# Test radna sveska"
   ]
  },
  {
   "cell_type": "markdown",
   "metadata": {},
   "source": [
    "Ovo je radna sveska koju smo iskoristili da ti pokažemo kako će biti distribuirani materijali sa kursa. I ova, kao i radna sveska koju si sam napravio/napravila i u kojoj smo provežbali osnove sastoji se od ćelija. Ovaj tekst je u *Markdown* formatu. "
   ]
  },
  {
   "cell_type": "markdown",
   "metadata": {},
   "source": [
    "Cilj ovoga bio je da prođeš kroz to kako ćeš dobijati neke materijale od nas. Ako si stigao/stigla do ovog teksta, sve je uspelo i možeš mirno da čekaš prvo predavanje. "
   ]
  }
 ],
 "metadata": {
  "kernelspec": {
   "display_name": "Python 3",
   "language": "python",
   "name": "python3"
  },
  "language_info": {
   "codemirror_mode": {
    "name": "ipython",
    "version": 3
   },
   "file_extension": ".py",
   "mimetype": "text/x-python",
   "name": "python",
   "nbconvert_exporter": "python",
   "pygments_lexer": "ipython3",
   "version": "3.7.4"
  }
 },
 "nbformat": 4,
 "nbformat_minor": 2
}
